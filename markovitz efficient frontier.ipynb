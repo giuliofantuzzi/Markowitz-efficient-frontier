{
 "cells": [
  {
   "cell_type": "markdown",
   "id": "70d8bcaf",
   "metadata": {},
   "source": [
    "<center><h1><b> Markowitz Efficient Frontier"
   ]
  },
  {
   "cell_type": "code",
   "execution_count": 59,
   "id": "62bb7d0c",
   "metadata": {},
   "outputs": [
    {
     "data": {
      "text/plain": [
       "'\\n-----------------------------------------------------------------------\\n        Author:    Giulio Fantuzzi\\n       Created:    2022/08/02\\n Last modified:    2023/02/23\\n\\n     Copyright (C) 2022  Giulio Fantuzzi\\n----------------------------------------------------------------------- \\n'"
      ]
     },
     "execution_count": 59,
     "metadata": {},
     "output_type": "execute_result"
    }
   ],
   "source": [
    "\"\"\"\n",
    "-----------------------------------------------------------------------\n",
    "        Author:    Giulio Fantuzzi\n",
    "       Created:    2022/08/02\n",
    " Last modified:    2023/02/23\n",
    "\n",
    "     Copyright (C) 2022  Giulio Fantuzzi\n",
    "----------------------------------------------------------------------- \n",
    "\"\"\""
   ]
  },
  {
   "cell_type": "markdown",
   "id": "1e56f745",
   "metadata": {},
   "source": [
    "### Import data from web and get a brief overview of them"
   ]
  },
  {
   "cell_type": "code",
   "execution_count": null,
   "id": "47d8d04c",
   "metadata": {},
   "outputs": [],
   "source": [
    "#Import libraries\n",
    "import pandas as pd\n",
    "import numpy as np\n",
    "import pandas_datareader\n",
    "from pandas_datareader import data as pdr\n",
    "from datetime import datetime\n",
    "import matplotlib.pyplot as plt\n",
    "import seaborn as sns\n",
    "import yfinance as yfin\n",
    "yfin.pdr_override()\n",
    "from math import sqrt\n",
    "\n",
    "#before importing it might need to pip install pandas-datareader and pip install yfinance"
   ]
  },
  {
   "cell_type": "code",
   "execution_count": null,
   "id": "11826671",
   "metadata": {},
   "outputs": [],
   "source": [
    "#Get the stock tickers in the portfolio\n",
    "assets=['META', 'CEVA', 'ZOM', 'GOOG']"
   ]
  },
  {
   "cell_type": "code",
   "execution_count": null,
   "id": "8c5cb30a",
   "metadata": {},
   "outputs": [],
   "source": [
    "#Get the stock/portfolio dates (e.g. January 2021)\n",
    "stockStartDate= '2023-01-01'\n",
    "stockEndDate= '2023-02-22'"
   ]
  },
  {
   "cell_type": "code",
   "execution_count": null,
   "id": "e646f763",
   "metadata": {},
   "outputs": [],
   "source": [
    "#Create a dataframe to store the (daily) adjusted close price of the stocks\n",
    "#Data will be imported from yahoo finance\n",
    "stocks= pd.DataFrame()\n",
    "for stock in assets:\n",
    "    stocks[stock]= pdr.get_data_yahoo(stock,start=stockStartDate,end=stockEndDate)['Adj Close']\n",
    "#Visualize our dataframe\n",
    "stocks"
   ]
  },
  {
   "cell_type": "markdown",
   "id": "470d355c",
   "metadata": {},
   "source": [
    "## Returns\n",
    "\n",
    "### $$r_t = \\frac{p_t}{p_{t-1}}$$"
   ]
  },
  {
   "cell_type": "code",
   "execution_count": null,
   "id": "fa8ddfb3",
   "metadata": {},
   "outputs": [],
   "source": [
    "returns= stocks/stocks.shift(1)"
   ]
  },
  {
   "cell_type": "markdown",
   "id": "ccb61df2",
   "metadata": {},
   "source": [
    "### To make our data comparable, let's consider log returns\n",
    "\n"
   ]
  },
  {
   "cell_type": "code",
   "execution_count": null,
   "id": "75c506b3",
   "metadata": {},
   "outputs": [],
   "source": [
    "logReturns= np.log(returns)\n",
    "logReturns"
   ]
  },
  {
   "cell_type": "markdown",
   "id": "4d097146",
   "metadata": {},
   "source": [
    "### Sharp ratio\n",
    "\n",
    "\n",
    "$$ SR(w)= \\frac{R(w)-R_f}{\\sigma(w)}, \\text{ with } w=[w_1 w_2 w_3 w_4 w_5] \\text{ s.t. } \\sum_{k=1}^{5}{w_k}=1$$ \n",
    "\n",
    "Since we will look for max $SR(w)$ and $R_f$ is common for all $w$, then we shall compute\n",
    "\n",
    "\\begin{align*}\n",
    "R(w) &= w^T log(r)\\\\[0.4cm]\n",
    "\\sigma(w) &= \\sqrt{w^T S w}\\\\[0.4cm]\n",
    "SR(w) &\\sim \\frac{R(w)}{\\sigma(w)}\n",
    "\\end{align*}"
   ]
  },
  {
   "cell_type": "markdown",
   "id": "7478cc93",
   "metadata": {},
   "source": [
    "# Expected optimal weights by Monte Carlo simulation"
   ]
  },
  {
   "cell_type": "code",
   "execution_count": null,
   "id": "723d62db",
   "metadata": {},
   "outputs": [],
   "source": [
    "#We're gonna create lots of different portfolios\n",
    "numberOfPortfolios= 10000\n",
    "#Pre allocating a weight matrix\n",
    "weight= np.zeros((numberOfPortfolios,len(assets)))\n",
    "\n",
    "meanLogReturn= logReturns.mean() #it's an array with the meanlogreturn for each company\n",
    "S= logReturns.cov()\n",
    "\n",
    "expectedReturn=np.zeros(numberOfPortfolios)\n",
    "expectedVolatility=np.zeros(numberOfPortfolios)\n",
    "expectedSR=np.zeros(numberOfPortfolios)\n",
    "\n",
    "\n",
    "for k in range(numberOfPortfolios):\n",
    "    \n",
    "    #Generate random weight vector\n",
    "    w=np.array(np.random.random(len(assets)))\n",
    "    w= w/np.sum(w)\n",
    "    weight[k,:]=w\n",
    "    #Expected return (actually it's the log expected return)\n",
    "    expectedReturn[k]= np.dot(meanLogReturn,w)\n",
    "    #Expected volatility\n",
    "    expectedVolatility[k]= np.sqrt(np.dot(w.T,np.dot(S,w)))\n",
    "    #Expected SR (actually it's not the SR, but it's proportionally)\n",
    "    expectedSR[k]= expectedReturn[k]/expectedVolatility[k]"
   ]
  },
  {
   "cell_type": "code",
   "execution_count": null,
   "id": "1798f472",
   "metadata": {},
   "outputs": [],
   "source": [
    "#the best portfolio is the one with the higher SR\n",
    "maxIndex= expectedSR.argmax()\n",
    "\n",
    "#From which we can \"deduce\" the optimal portfolio weights\n",
    "expectedoptimalWeights= weight[maxIndex,:]\n",
    "expectedoptimalWeights"
   ]
  },
  {
   "cell_type": "code",
   "execution_count": null,
   "id": "88958c58",
   "metadata": {},
   "outputs": [],
   "source": [
    "plt.figure(figsize=(16,6))\n",
    "plt.scatter(expectedVolatility, expectedReturn, c=expectedSR)\n",
    "plt.title('Return vs Volatility Chart', fontsize=25)\n",
    "plt.xlabel('Expected Volatility')\n",
    "plt.ylabel('Expected Log Returns')\n",
    "plt.colorbar(label='SR')\n",
    "plt.scatter(expectedVolatility[maxIndex], expectedReturn[maxIndex], color='r') #optimal simultated porfolio (max SR)\n",
    "plt.show()"
   ]
  },
  {
   "cell_type": "markdown",
   "id": "c4257069",
   "metadata": {},
   "source": [
    "# Optimal weights by Markowitz Portfolio Optimization \n",
    "\n",
    "Our optimization problem can be represented as follow:\n",
    "\n",
    "\n",
    "\\begin{align*}\n",
    "\\min_{w} \\quad & -SR(w)\\\\\n",
    "\\textrm{s.t.} \\quad & 0 \\leq w_{i}\\leq 1\\;\\;\\forall i\\\\\n",
    "                    & 1^T w=1 \\;\\;\\;\\;\\;\\; (\\text{it means } \\sum_{i} w_i=1 ) \\\\\n",
    "\\end{align*}\n",
    "\n",
    "In fact finding the max of the function SR is the same of finding the min of the function -SR\n"
   ]
  },
  {
   "cell_type": "code",
   "execution_count": null,
   "id": "eb2bd609",
   "metadata": {},
   "outputs": [],
   "source": [
    "#we need a library for optimization\n",
    "#similarry to matlab, the sintax is of the type (objfunc, initialguess, alg, bounds, constraints)\n",
    "from scipy.optimize import minimize\n",
    "\n",
    "#Function to minimize\n",
    "#--------------------------------------\n",
    "def negativeSR(w):\n",
    "    w=np.array(w)\n",
    "    R=np.sum(meanLogReturn*w)\n",
    "    V=np.sqrt(np.dot(w.T,np.dot(S,w)))\n",
    "    SR= R/V\n",
    "    return -1*SR\n",
    "#--------------------------------------\n",
    "#Function of the costraints\n",
    "def checkSumToOne(w):\n",
    "    return (np.sum(w)-1)\n",
    "#--------------------------------------\n",
    "#Initial Guess, bounds and costraints\n",
    "w0=[0.25, 0.25, 0.25, 0.25]\n",
    "bounds=((0,1),(0,1),(0,1),(0,1))\n",
    "constraints= ({'type':'eq', 'fun': checkSumToOne})\n",
    "#--------------------------------------\n",
    "\n",
    "\n",
    "w_opt= minimize(negativeSR, w0, method='SLSQP',bounds=bounds, constraints=constraints)\n",
    "w_opt"
   ]
  },
  {
   "cell_type": "code",
   "execution_count": null,
   "id": "45a817a5",
   "metadata": {},
   "outputs": [],
   "source": [
    "#Optimal weights, volatility and logreturn\n",
    "optimalWeights=w_opt.x\n",
    "vol_opt=np.sqrt(np.dot(optimalWeights.T,np.dot(S,optimalWeights)))\n",
    "ret_opt=np.sum(meanLogReturn*optimalWeights)\n",
    "\n",
    "optimalWeights"
   ]
  },
  {
   "cell_type": "markdown",
   "id": "786a9014",
   "metadata": {},
   "source": [
    "# Scatter plot frontier"
   ]
  },
  {
   "cell_type": "code",
   "execution_count": null,
   "id": "974e9df5",
   "metadata": {},
   "outputs": [],
   "source": [
    "#Get the frontier\n",
    "returns=np.linspace(0,0.11,50)\n",
    "volatility_opt=[]\n",
    "def minimizeMyVolatility(w):\n",
    "    w=np.array(w)\n",
    "    V=np.sqrt(np.dot(w.T,np.dot(S,w)))\n",
    "    return V\n",
    "def getReturn(w):\n",
    "    w=np.array(w)\n",
    "    R= np.sum(meanLogReturn*w)\n",
    "    return R\n",
    "for R in returns:\n",
    "    #find best volatility\n",
    "    constraints=({'type':'eq', 'fun': checkSumToOne},\n",
    "                 {'type':'eq', 'fun': lambda w: getReturn(w)-R}) #NB:lambda is a python way to get a handle funct!\n",
    "    opt= minimize(minimizeMyVolatility, w0, method='SLSQP',bounds=bounds, constraints=constraints)\n",
    "    volatility_opt.append(opt['fun'])\n",
    "\n"
   ]
  },
  {
   "cell_type": "code",
   "execution_count": null,
   "id": "c0a9537b",
   "metadata": {
    "scrolled": false
   },
   "outputs": [],
   "source": [
    "#Scatterplot we did before\n",
    "#---------------------------------------------------------------------------------\n",
    "plt.figure(figsize=(20,8))\n",
    "plt.scatter(expectedVolatility, expectedReturn, c=expectedSR)\n",
    "plt.title('Return vs Volatility Chart', fontsize=25)\n",
    "plt.xlabel('Expected Volatility',fontsize=15)\n",
    "plt.ylabel('Expected Log Returns',fontsize=15)\n",
    "plt.colorbar(label='SR')\n",
    "\n",
    "montecarlo_opt=plt.scatter(expectedVolatility[maxIndex], expectedReturn[maxIndex], color='r')#opt portfolio by montecarlo\n",
    "markowitz_opt=plt.scatter(vol_opt, ret_opt, color='blue') #opt portfolio by markowitz optimization\n",
    "plt.legend((montecarlo_opt,markowitz_opt),(\"Montecarlo optimal\",\"Markowitz optimal\"))\n",
    "plt.show()"
   ]
  },
  {
   "cell_type": "markdown",
   "id": "e7b2d4bb",
   "metadata": {},
   "source": [
    "**Comment**: the 2 optimal points are almost overlapped. \n",
    "\n",
    "This suggests the efficiency of our montecarlo simulation!"
   ]
  }
 ],
 "metadata": {
  "kernelspec": {
   "display_name": "Python 3 (ipykernel)",
   "language": "python",
   "name": "python3"
  },
  "language_info": {
   "codemirror_mode": {
    "name": "ipython",
    "version": 3
   },
   "file_extension": ".py",
   "mimetype": "text/x-python",
   "name": "python",
   "nbconvert_exporter": "python",
   "pygments_lexer": "ipython3",
   "version": "3.10.6"
  }
 },
 "nbformat": 4,
 "nbformat_minor": 5
}
